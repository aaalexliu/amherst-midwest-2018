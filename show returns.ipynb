{
 "cells": [
  {
   "cell_type": "code",
   "execution_count": 18,
   "metadata": {},
   "outputs": [
    {
     "name": "stderr",
     "output_type": "stream",
     "text": [
      "/Users/Alex/anaconda2/envs/py36/lib/python3.6/site-packages/numpy/core/fromnumeric.py:2957: RuntimeWarning: Mean of empty slice.\n",
      "  out=out, **kwargs)\n",
      "/Users/Alex/anaconda2/envs/py36/lib/python3.6/site-packages/numpy/core/_methods.py:80: RuntimeWarning: invalid value encountered in double_scalars\n",
      "  ret = ret.dtype.type(ret / rcount)\n",
      "/Users/Alex/anaconda2/envs/py36/lib/python3.6/site-packages/numpy/core/_methods.py:135: RuntimeWarning: Degrees of freedom <= 0 for slice\n",
      "  keepdims=keepdims)\n",
      "/Users/Alex/anaconda2/envs/py36/lib/python3.6/site-packages/numpy/core/_methods.py:105: RuntimeWarning: invalid value encountered in true_divide\n",
      "  arrmean, rcount, out=arrmean, casting='unsafe', subok=False)\n",
      "/Users/Alex/anaconda2/envs/py36/lib/python3.6/site-packages/numpy/core/_methods.py:127: RuntimeWarning: invalid value encountered in double_scalars\n",
      "  ret = ret.dtype.type(ret / rcount)\n",
      "/Users/Alex/anaconda2/envs/py36/lib/python3.6/site-packages/ipykernel_launcher.py:13: RuntimeWarning: divide by zero encountered in double_scalars\n",
      "  del sys.path[0]\n"
     ]
    },
    {
     "name": "stdout",
     "output_type": "stream",
     "text": [
      "4.790118151645606\n",
      "0       19.539488\n",
      "1       24.154547\n",
      "2        9.387304\n",
      "3       11.606893\n",
      "4       12.620704\n",
      "5        8.165467\n",
      "6        6.798325\n",
      "7        6.814805\n",
      "8        8.383751\n",
      "9        9.650494\n",
      "10      10.008030\n",
      "11       8.356596\n",
      "12       6.429101\n",
      "13       7.062568\n",
      "14       6.943305\n",
      "15       7.815470\n",
      "16       6.956112\n",
      "17       7.553755\n",
      "18       7.642581\n",
      "19       8.150412\n",
      "20       7.595832\n",
      "21       5.714616\n",
      "22       5.909620\n",
      "23       6.002992\n",
      "24       6.128394\n",
      "25       6.474792\n",
      "26       7.011556\n",
      "27       6.653156\n",
      "28       6.352222\n",
      "29       5.528286\n",
      "          ...    \n",
      "2418     4.782526\n",
      "2419     4.787887\n",
      "2420     4.782162\n",
      "2421     4.790434\n",
      "2422     4.782002\n",
      "2423     4.789556\n",
      "2424     4.789559\n",
      "2425     4.788130\n",
      "2426     4.780439\n",
      "2427     4.785418\n",
      "2428     4.789310\n",
      "2429     4.793634\n",
      "2430     4.798912\n",
      "2431     4.809003\n",
      "2432     4.807621\n",
      "2433     4.805610\n",
      "2434     4.811932\n",
      "2435     4.809339\n",
      "2436     4.811397\n",
      "2437     4.807658\n",
      "2438     4.806803\n",
      "2439     4.796270\n",
      "2440     4.799264\n",
      "2441     4.797120\n",
      "2442     4.798923\n",
      "2443     4.804517\n",
      "2444     4.798370\n",
      "2445     4.797694\n",
      "2446     4.790325\n",
      "2447     4.792479\n",
      "Length: 2448, dtype: float64\n"
     ]
    },
    {
     "data": {
      "image/png": "[encoded data removed]",
      "text/plain": [
       "<Figure size 432x288 with 1 Axes>"
      ]
     },
     "metadata": {},
     "output_type": "display_data"
    }
   ],
   "source": [
    "\n",
    "import pickle\n",
    "from os import listdir\n",
    "from os.path import isfile, join\n",
    "import numpy as np\n",
    "import pprint\n",
    "import matplotlib.pyplot as plt\n",
    "import pandas as pd\n",
    "path = 'daily_returns_hml_only.pic'\n",
    "daily_returns = pickle.load(open(path, 'rb'))\n",
    "time = []\n",
    "for i in range(len(daily_returns)):\n",
    "\tsharpe_ratio = np.sqrt(252) * (np.mean(daily_returns[0:i]) / np.std(daily_returns[0:i]))\n",
    "\ttime.append(sharpe_ratio)\n",
    "sharpe_ratio = np.sqrt(252) * (np.mean(daily_returns) / np.std(daily_returns))\n",
    "print(sharpe_ratio)\n",
    "time = pd.Series(time[3:len(time)])\n",
    "print(time)\n",
    "plt.hist(time.dropna())\n",
    "plt.show()"
   ]
  }
 ],
 "metadata": {
  "kernelspec": {
   "display_name": "py36",
   "language": "python",
   "name": "py36"
  },
  "language_info": {
   "codemirror_mode": {
    "name": "ipython",
    "version": 3
   },
   "file_extension": ".py",
   "mimetype": "text/x-python",
   "name": "python",
   "nbconvert_exporter": "python",
   "pygments_lexer": "ipython3",
   "version": "3.6.5"
  }
 },
 "nbformat": 4,
 "nbformat_minor": 2
}
